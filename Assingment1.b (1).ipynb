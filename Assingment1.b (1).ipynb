{
 "cells": [
  {
   "cell_type": "markdown",
   "metadata": {},
   "source": [
    "  <h3><bold>1.Iris DataSet</bold></h3>\n",
    "1.1 Summary Statics"
   ]
  },
  {
   "cell_type": "code",
   "execution_count": 95,
   "metadata": {},
   "outputs": [
    {
     "data": {
      "text/html": [
       "<div>\n",
       "<style scoped>\n",
       "    .dataframe tbody tr th:only-of-type {\n",
       "        vertical-align: middle;\n",
       "    }\n",
       "\n",
       "    .dataframe tbody tr th {\n",
       "        vertical-align: top;\n",
       "    }\n",
       "\n",
       "    .dataframe thead th {\n",
       "        text-align: right;\n",
       "    }\n",
       "</style>\n",
       "<table border=\"1\" class=\"dataframe\">\n",
       "  <thead>\n",
       "    <tr style=\"text-align: right;\">\n",
       "      <th></th>\n",
       "      <th>SepalLength</th>\n",
       "      <th>SepalWidth</th>\n",
       "      <th>PetalLength</th>\n",
       "      <th>PetalWidth</th>\n",
       "      <th>Name</th>\n",
       "    </tr>\n",
       "  </thead>\n",
       "  <tbody>\n",
       "    <tr>\n",
       "      <th>0</th>\n",
       "      <td>5.1</td>\n",
       "      <td>3.5</td>\n",
       "      <td>1.4</td>\n",
       "      <td>0.2</td>\n",
       "      <td>Iris-setosa</td>\n",
       "    </tr>\n",
       "    <tr>\n",
       "      <th>1</th>\n",
       "      <td>4.9</td>\n",
       "      <td>3.0</td>\n",
       "      <td>1.4</td>\n",
       "      <td>0.2</td>\n",
       "      <td>Iris-setosa</td>\n",
       "    </tr>\n",
       "    <tr>\n",
       "      <th>2</th>\n",
       "      <td>4.7</td>\n",
       "      <td>3.2</td>\n",
       "      <td>1.3</td>\n",
       "      <td>0.2</td>\n",
       "      <td>Iris-setosa</td>\n",
       "    </tr>\n",
       "    <tr>\n",
       "      <th>3</th>\n",
       "      <td>4.6</td>\n",
       "      <td>3.1</td>\n",
       "      <td>1.5</td>\n",
       "      <td>0.2</td>\n",
       "      <td>Iris-setosa</td>\n",
       "    </tr>\n",
       "    <tr>\n",
       "      <th>4</th>\n",
       "      <td>5.0</td>\n",
       "      <td>3.6</td>\n",
       "      <td>1.4</td>\n",
       "      <td>0.2</td>\n",
       "      <td>Iris-setosa</td>\n",
       "    </tr>\n",
       "  </tbody>\n",
       "</table>\n",
       "</div>"
      ],
      "text/plain": [
       "   SepalLength  SepalWidth  PetalLength  PetalWidth         Name\n",
       "0          5.1         3.5          1.4         0.2  Iris-setosa\n",
       "1          4.9         3.0          1.4         0.2  Iris-setosa\n",
       "2          4.7         3.2          1.3         0.2  Iris-setosa\n",
       "3          4.6         3.1          1.5         0.2  Iris-setosa\n",
       "4          5.0         3.6          1.4         0.2  Iris-setosa"
      ]
     },
     "execution_count": 95,
     "metadata": {},
     "output_type": "execute_result"
    }
   ],
   "source": [
    "import pandas as pd\n",
    "\n",
    "df = pd.read_csv('iris.csv')\n",
    "df.head()"
   ]
  },
  {
   "cell_type": "markdown",
   "metadata": {},
   "source": [
    "<bold>4</bold> features are there <h4>SepalLengh,SepalWidth,PatelLenght,PatelWidth</h4>"
   ]
  },
  {
   "cell_type": "markdown",
   "metadata": {},
   "source": [
    "<h3>SepalLength:<h3>"
   ]
  },
  {
   "cell_type": "code",
   "execution_count": 72,
   "metadata": {},
   "outputs": [
    {
     "name": "stdout",
     "output_type": "stream",
     "text": [
      "The min value= 4.3\n",
      "The max value= 7.9\n",
      "Mean= 5.843333333333335\n",
      "Range= 3.6000000000000005\n",
      "Standard_devaition= 0.8253012917851409\n",
      "Variance= 0.6811222222222222\n",
      "Count= 151\n",
      "Median= 5.8\n",
      "25:50:75 % percentile= 5.1 , 5.8 , 6.4\n"
     ]
    }
   ],
   "source": [
    "import numpy as np\n",
    "x = df['SepalLength']\n",
    "print(\"The min value=\",min(x))\n",
    "print(\"The max value=\",max(x))\n",
    "print(\"Mean=\",sum(x)/len(x))\n",
    "print(\"Range=\",max(x)-min(x))\n",
    "print(\"Standard_devaition=\",np.std(x))\n",
    "print(\"Variance=\",np.var(x))\n",
    "print(\"Count=\",len(x)+1)\n",
    "print(\"Median=\",statistics.median(x))\n",
    "print(\"25:50:75 % percentile=\",np.percentile(x,25),\",\", np.percentile(x,50),\",\", np.percentile(x,75))"
   ]
  },
  {
   "cell_type": "markdown",
   "metadata": {},
   "source": [
    "<h3>SepalWidth:</h3>"
   ]
  },
  {
   "cell_type": "code",
   "execution_count": 73,
   "metadata": {},
   "outputs": [
    {
     "name": "stdout",
     "output_type": "stream",
     "text": [
      "The min value= 2.0\n",
      "The max value= 4.4\n",
      "Mean= 3.0540000000000007\n",
      "Range= 2.4000000000000004\n",
      "Standard_devaition= 0.4321465800705435\n",
      "Variance= 0.1867506666666667\n",
      "Median= 3.0\n",
      "Count= 151\n",
      "25:50:75 % percentile= 2.8 , 3.0 , 3.3\n"
     ]
    }
   ],
   "source": [
    "import numpy as np\n",
    "x = df['SepalWidth']\n",
    "print(\"The min value=\",min(x))\n",
    "print(\"The max value=\",max(x))\n",
    "print(\"Mean=\",sum(x)/len(x))\n",
    "print(\"Range=\",max(x)-min(x))\n",
    "print(\"Standard_devaition=\",np.std(x))\n",
    "print(\"Variance=\",np.var(x))\n",
    "print(\"Median=\",statistics.median(x))\n",
    "print(\"Count=\",len(x)+1)\n",
    "print(\"25:50:75 % percentile=\",np.percentile(x,25),\",\", np.percentile(x,50),\",\", np.percentile(x,75))"
   ]
  },
  {
   "cell_type": "markdown",
   "metadata": {},
   "source": [
    "<h3>PetalLength:</h3>"
   ]
  },
  {
   "cell_type": "code",
   "execution_count": 75,
   "metadata": {},
   "outputs": [
    {
     "name": "stdout",
     "output_type": "stream",
     "text": [
      "The min value= 1.0\n",
      "The max value= 6.9\n",
      "Mean= 3.7586666666666693\n",
      "Range= 5.9\n",
      "Standard_devaition= 1.7585291834055201\n",
      "Variance= 3.0924248888888854\n",
      "Count= 151\n",
      "Median= 4.35\n",
      "25:50:75 % percentile= 1.6 , 4.35 , 5.1\n"
     ]
    }
   ],
   "source": [
    "import numpy as np\n",
    "x = df['PetalLength']\n",
    "print(\"The min value=\",min(x))\n",
    "print(\"The max value=\",max(x))\n",
    "print(\"Mean=\",sum(x)/len(x))\n",
    "print(\"Range=\",max(x)-min(x))\n",
    "print(\"Standard_devaition=\",np.std(x))\n",
    "print(\"Variance=\",np.var(x))\n",
    "print(\"Count=\",len(x)+1)\n",
    "print(\"Median=\",statistics.median(x))\n",
    "print(\"25:50:75 % percentile=\",np.percentile(x,25),\",\", np.percentile(x,50),\",\", np.percentile(x,75))"
   ]
  },
  {
   "cell_type": "markdown",
   "metadata": {},
   "source": [
    "<h3>PetalWidth:</h3>"
   ]
  },
  {
   "cell_type": "code",
   "execution_count": 74,
   "metadata": {},
   "outputs": [
    {
     "name": "stdout",
     "output_type": "stream",
     "text": [
      "The min value= 0.1\n",
      "The max value= 2.5\n",
      "Mean= 1.1986666666666672\n",
      "Range= 2.4\n",
      "Standard_devaition= 0.760612618588172\n",
      "Variance= 0.5785315555555559\n",
      "Count= 151\n",
      "Median= 1.3\n",
      "25:50:75 % percentile= 0.3 , 1.3 , 1.8\n"
     ]
    }
   ],
   "source": [
    "import numpy as np\n",
    "x = df['PetalWidth']\n",
    "print(\"The min value=\",min(x))\n",
    "print(\"The max value=\",max(x))\n",
    "print(\"Mean=\",sum(x)/len(x))\n",
    "print(\"Range=\",max(x)-min(x))\n",
    "print(\"Standard_devaition=\",np.std(x))\n",
    "print(\"Variance=\",np.var(x))\n",
    "print(\"Count=\",len(x)+1)\n",
    "print(\"Median=\",statistics.median(x))\n",
    "print(\"25:50:75 % percentile=\",np.percentile(x,25),\",\", np.percentile(x,50),\",\", np.percentile(x,75))"
   ]
  },
  {
   "cell_type": "markdown",
   "metadata": {},
   "source": [
    "1.2 Data Visualisation"
   ]
  },
  {
   "cell_type": "markdown",
   "metadata": {},
   "source": [
    "1.2.1 <strong> Histograms: </strong>"
   ]
  },
  {
   "cell_type": "code",
   "execution_count": 41,
   "metadata": {},
   "outputs": [
    {
     "data": {
      "image/png": "[encoded data removed]",
      "text/plain": [
       "<Figure size 432x288 with 1 Axes>"
      ]
     },
     "metadata": {
      "needs_background": "light"
     },
     "output_type": "display_data"
    }
   ],
   "source": [
    "import matplotlib.pyplot as plt\n",
    "s_Length = df['SepalLength']\n",
    "s_Width = df['SepalWidth']\n",
    "p_Length = df['PetalLength']\n",
    "p_Width = df['PetalWidth']\n",
    "bins = [0,1,2,3,4,5,6,7,8,9,10]\n",
    "plt.hist(s_Length,bins,histtype='bar',label='SepalLength',rwidth=0.8)\n",
    "plt.hist(s_Width,bins,histtype='bar',label='SepalWidth',rwidth=0.8)\n",
    "plt.hist(p_Length,bins,histtype='bar',label='PetalLength',rwidth=0.8)\n",
    "plt.hist(p_Width,bins,histtype='bar',label='PetalWidth',rwidth=0.8)\n",
    "plt.legend()\n",
    "plt.title('Iris Data Set')\n",
    "plt.show()"
   ]
  },
  {
   "cell_type": "markdown",
   "metadata": {},
   "source": [
    "1.2.2 <strong>Boxplots:</strong>"
   ]
  },
  {
   "cell_type": "code",
   "execution_count": 44,
   "metadata": {},
   "outputs": [
    {
     "data": {
      "text/plain": [
       "[Text(1, 0, 's_Length'),\n",
       " Text(2, 0, 's_Width'),\n",
       " Text(3, 0, 'p_Length'),\n",
       " Text(4, 0, 'p_Width')]"
      ]
     },
     "execution_count": 44,
     "metadata": {},
     "output_type": "execute_result"
    },
    {
     "data": {
      "image/png": "[encoded data removed]",
      "text/plain": [
       "<Figure size 648x432 with 1 Axes>"
      ]
     },
     "metadata": {
      "needs_background": "light"
     },
     "output_type": "display_data"
    }
   ],
   "source": [
    "import matplotlib.pyplot as plt\n",
    "s_Length = df['SepalLength']\n",
    "s_Width = df['SepalWidth']\n",
    "p_Length = df['PetalLength']\n",
    "p_Width = df['PetalWidth']\n",
    "data_to_plot = [s_Length,s_Width,p_Length,p_Width]\n",
    "\n",
    "fig = plt.figure(1, figsize=(9, 6))\n",
    "\n",
    "\n",
    "ax = fig.add_subplot(111)\n",
    "\n",
    "\n",
    "bp = ax.boxplot(data_to_plot)\n",
    "\n",
    "\n",
    "fig.savefig('fig1.png', bbox_inches='tight')\n",
    "bp = ax.boxplot(data_to_plot, patch_artist=True)\n",
    "\n",
    "\n",
    "for box in bp['boxes']:\n",
    "    # change outline color\n",
    "    box.set( color='#7570b3', linewidth=2)\n",
    "    # change fill color\n",
    "    box.set( facecolor = '#1b9e77' )\n",
    "\n",
    "## change color and linewidth of the whiskers\n",
    "for whisker in bp['whiskers']:\n",
    "    whisker.set(color='#7570b3', linewidth=2)\n",
    "\n",
    "## change color and linewidth of the caps\n",
    "for cap in bp['caps']:\n",
    "    cap.set(color='#7570b3', linewidth=2)\n",
    "\n",
    "## change color and linewidth of the medians\n",
    "for median in bp['medians']:\n",
    "    median.set(color='#b2df8a', linewidth=2)\n",
    "for flier in bp['fliers']:\n",
    "    flier.set(marker='o', color='#e7298a', alpha=0.5)\n",
    "    \n",
    "ax.set_xticklabels(['s_Length', 's_Width', 'p_Length', 'p_Width'])"
   ]
  },
  {
   "cell_type": "markdown",
   "metadata": {},
   "source": [
    "<h3>2. Pen Based Handwritten Digit Data Base</h3>"
   ]
  },
  {
   "cell_type": "code",
   "execution_count": 86,
   "metadata": {},
   "outputs": [
    {
     "data": {
      "text/html": [
       "<div>\n",
       "<style scoped>\n",
       "    .dataframe tbody tr th:only-of-type {\n",
       "        vertical-align: middle;\n",
       "    }\n",
       "\n",
       "    .dataframe tbody tr th {\n",
       "        vertical-align: top;\n",
       "    }\n",
       "\n",
       "    .dataframe thead th {\n",
       "        text-align: right;\n",
       "    }\n",
       "</style>\n",
       "<table border=\"1\" class=\"dataframe\">\n",
       "  <thead>\n",
       "    <tr style=\"text-align: right;\">\n",
       "      <th></th>\n",
       "      <th>47</th>\n",
       "      <th>100</th>\n",
       "      <th>27</th>\n",
       "      <th>81</th>\n",
       "      <th>57</th>\n",
       "      <th>37</th>\n",
       "      <th>26</th>\n",
       "      <th>0</th>\n",
       "      <th>0.1</th>\n",
       "      <th>23</th>\n",
       "      <th>56</th>\n",
       "      <th>53</th>\n",
       "      <th>100.1</th>\n",
       "      <th>90</th>\n",
       "      <th>40</th>\n",
       "      <th>98</th>\n",
       "      <th>8</th>\n",
       "    </tr>\n",
       "  </thead>\n",
       "  <tbody>\n",
       "    <tr>\n",
       "      <th>0</th>\n",
       "      <td>0</td>\n",
       "      <td>89</td>\n",
       "      <td>27</td>\n",
       "      <td>100</td>\n",
       "      <td>42</td>\n",
       "      <td>75</td>\n",
       "      <td>29</td>\n",
       "      <td>45</td>\n",
       "      <td>15</td>\n",
       "      <td>15</td>\n",
       "      <td>37</td>\n",
       "      <td>0</td>\n",
       "      <td>69</td>\n",
       "      <td>2</td>\n",
       "      <td>100</td>\n",
       "      <td>6</td>\n",
       "      <td>2</td>\n",
       "    </tr>\n",
       "    <tr>\n",
       "      <th>1</th>\n",
       "      <td>0</td>\n",
       "      <td>57</td>\n",
       "      <td>31</td>\n",
       "      <td>68</td>\n",
       "      <td>72</td>\n",
       "      <td>90</td>\n",
       "      <td>100</td>\n",
       "      <td>100</td>\n",
       "      <td>76</td>\n",
       "      <td>75</td>\n",
       "      <td>50</td>\n",
       "      <td>51</td>\n",
       "      <td>28</td>\n",
       "      <td>25</td>\n",
       "      <td>16</td>\n",
       "      <td>0</td>\n",
       "      <td>1</td>\n",
       "    </tr>\n",
       "    <tr>\n",
       "      <th>2</th>\n",
       "      <td>0</td>\n",
       "      <td>100</td>\n",
       "      <td>7</td>\n",
       "      <td>92</td>\n",
       "      <td>5</td>\n",
       "      <td>68</td>\n",
       "      <td>19</td>\n",
       "      <td>45</td>\n",
       "      <td>86</td>\n",
       "      <td>34</td>\n",
       "      <td>100</td>\n",
       "      <td>45</td>\n",
       "      <td>74</td>\n",
       "      <td>23</td>\n",
       "      <td>67</td>\n",
       "      <td>0</td>\n",
       "      <td>4</td>\n",
       "    </tr>\n",
       "    <tr>\n",
       "      <th>3</th>\n",
       "      <td>0</td>\n",
       "      <td>67</td>\n",
       "      <td>49</td>\n",
       "      <td>83</td>\n",
       "      <td>100</td>\n",
       "      <td>100</td>\n",
       "      <td>81</td>\n",
       "      <td>80</td>\n",
       "      <td>60</td>\n",
       "      <td>60</td>\n",
       "      <td>40</td>\n",
       "      <td>40</td>\n",
       "      <td>33</td>\n",
       "      <td>20</td>\n",
       "      <td>47</td>\n",
       "      <td>0</td>\n",
       "      <td>1</td>\n",
       "    </tr>\n",
       "    <tr>\n",
       "      <th>4</th>\n",
       "      <td>100</td>\n",
       "      <td>100</td>\n",
       "      <td>88</td>\n",
       "      <td>99</td>\n",
       "      <td>49</td>\n",
       "      <td>74</td>\n",
       "      <td>17</td>\n",
       "      <td>47</td>\n",
       "      <td>0</td>\n",
       "      <td>16</td>\n",
       "      <td>37</td>\n",
       "      <td>0</td>\n",
       "      <td>73</td>\n",
       "      <td>16</td>\n",
       "      <td>20</td>\n",
       "      <td>20</td>\n",
       "      <td>6</td>\n",
       "    </tr>\n",
       "  </tbody>\n",
       "</table>\n",
       "</div>"
      ],
      "text/plain": [
       "    47  100   27   81   57   37   26    0    0.1   23   56   53  100.1   90  \\\n",
       "0    0   89   27  100   42   75   29   45     15   15   37    0     69    2   \n",
       "1    0   57   31   68   72   90  100  100     76   75   50   51     28   25   \n",
       "2    0  100    7   92    5   68   19   45     86   34  100   45     74   23   \n",
       "3    0   67   49   83  100  100   81   80     60   60   40   40     33   20   \n",
       "4  100  100   88   99   49   74   17   47      0   16   37    0     73   16   \n",
       "\n",
       "    40   98   8  \n",
       "0  100    6   2  \n",
       "1   16    0   1  \n",
       "2   67    0   4  \n",
       "3   47    0   1  \n",
       "4   20   20   6  "
      ]
     },
     "execution_count": 86,
     "metadata": {},
     "output_type": "execute_result"
    }
   ],
   "source": [
    "import pandas as pd\n",
    "\n",
    "df = pd.read_csv('pendigits.csv')\n",
    "df.head()"
   ]
  },
  {
   "cell_type": "markdown",
   "metadata": {},
   "source": [
    "17 features are there\n",
    "They are:\n",
    "<strong>47,100,27,81,57,37,26,0,0.1,23,56,53,100.1,90,40,98,8</strong>\n",
    "\n",
    "<h3> 47 </h3>"
   ]
  },
  {
   "cell_type": "code",
   "execution_count": 13,
   "metadata": {},
   "outputs": [
    {
     "name": "stdout",
     "output_type": "stream",
     "text": [
      "The min value= 0\n",
      "The max value= 100\n",
      "Mean= 37.38302415587882\n",
      "Range= 100\n",
      "Standard_devaition= 33.32183895552069\n",
      "Variance= 1110.3449513776563\n",
      "Count= 7494\n",
      "25:50:75 % percentile= 5.0 , 31.0 , 61.0\n"
     ]
    }
   ],
   "source": [
    "import numpy as np\n",
    "x = df.iloc[:,0]\n",
    "print(\"The min value=\",min(x))\n",
    "print(\"The max value=\",max(x))\n",
    "print(\"Mean=\",sum(x)/len(x))\n",
    "print(\"Range=\",max(x)-min(x))\n",
    "print(\"Standard_devaition=\",np.std(x))\n",
    "print(\"Variance=\",np.var(x))\n",
    "print(\"Count=\",len(x)+1)\n",
    "print(\"25:50:75 % percentile=\",np.percentile(x,25),\",\", np.percentile(x,50),\",\", np.percentile(x,75))"
   ]
  },
  {
   "cell_type": "markdown",
   "metadata": {},
   "source": [
    "<h3> 100 </h3>"
   ]
  },
  {
   "cell_type": "code",
   "execution_count": 49,
   "metadata": {},
   "outputs": [
    {
     "name": "stdout",
     "output_type": "stream",
     "text": [
      "The min value= 0\n",
      "The max value= 100\n",
      "Mean= 84.67729881222475\n",
      "Range= 100\n",
      "Standard_devaition= 16.84749070981808\n",
      "Variance= 283.83794321740646\n",
      "Count= 7494\n",
      "25:50:75 % percentile= 76.0 , 89.0 , 100.0\n"
     ]
    }
   ],
   "source": [
    "import numpy as np\n",
    "x = df.iloc[:,1]\n",
    "print(\"The min value=\",min(x))\n",
    "print(\"The max value=\",max(x))\n",
    "print(\"Mean=\",sum(x)/len(x))\n",
    "print(\"Range=\",max(x)-min(x))\n",
    "print(\"Standard_devaition=\",np.std(x))\n",
    "print(\"Variance=\",np.var(x))\n",
    "print(\"Count=\",len(x)+1)\n",
    "print(\"25:50:75 % percentile=\",np.percentile(x,25),\",\", np.percentile(x,50),\",\", np.percentile(x,75))"
   ]
  },
  {
   "cell_type": "markdown",
   "metadata": {},
   "source": [
    "<h3> 27 </h3>"
   ]
  },
  {
   "cell_type": "code",
   "execution_count": 48,
   "metadata": {},
   "outputs": [
    {
     "name": "stdout",
     "output_type": "stream",
     "text": [
      "The min value= 0\n",
      "The max value= 100\n",
      "Mean= 40.007340184171895\n",
      "Range= 100\n",
      "Standard_devaition= 26.255595188431098\n",
      "Variance= 689.3562786987662\n",
      "Count= 7494\n",
      "25:50:75 % percentile= 20.0 , 39.0 , 58.0\n"
     ]
    }
   ],
   "source": [
    "import numpy as np\n",
    "x = df.iloc[:,2]\n",
    "print(\"The min value=\",min(x))\n",
    "print(\"The max value=\",max(x))\n",
    "print(\"Mean=\",sum(x)/len(x))\n",
    "print(\"Range=\",max(x)-min(x))\n",
    "print(\"Standard_devaition=\",np.std(x))\n",
    "print(\"Variance=\",np.var(x))\n",
    "print(\"Count=\",len(x)+1)\n",
    "print(\"25:50:75 % percentile=\",np.percentile(x,25),\",\", np.percentile(x,50),\",\", np.percentile(x,75))"
   ]
  },
  {
   "cell_type": "markdown",
   "metadata": {},
   "source": [
    "<h3>81</h3>"
   ]
  },
  {
   "cell_type": "code",
   "execution_count": 47,
   "metadata": {},
   "outputs": [
    {
     "name": "stdout",
     "output_type": "stream",
     "text": [
      "The min value= 0\n",
      "The max value= 100\n",
      "Mean= 82.88976377952756\n",
      "Range= 100\n",
      "Standard_devaition= 19.638569733494574\n",
      "Variance= 385.6734211773291\n",
      "Count= 7494\n",
      "25:50:75 % percentile= 70.0 , 89.0 , 100.0\n"
     ]
    }
   ],
   "source": [
    "import numpy as np\n",
    "x = df.iloc[:,3]\n",
    "print(\"The min value=\",min(x))\n",
    "print(\"The max value=\",max(x))\n",
    "print(\"Mean=\",sum(x)/len(x))\n",
    "print(\"Range=\",max(x)-min(x))\n",
    "print(\"Standard_devaition=\",np.std(x))\n",
    "print(\"Variance=\",np.var(x))\n",
    "print(\"Count=\",len(x)+1)\n",
    "print(\"25:50:75 % percentile=\",np.percentile(x,25),\",\", np.percentile(x,50),\",\", np.percentile(x,75))"
   ]
  },
  {
   "cell_type": "markdown",
   "metadata": {},
   "source": [
    "<h3>57</h3>"
   ]
  },
  {
   "cell_type": "code",
   "execution_count": 46,
   "metadata": {},
   "outputs": [
    {
     "name": "stdout",
     "output_type": "stream",
     "text": [
      "The min value= 0\n",
      "The max value= 100\n",
      "Mean= 50.877485653276395\n",
      "Range= 100\n",
      "Standard_devaition= 34.92712959386808\n",
      "Variance= 1219.9043816668554\n",
      "Count= 7494\n",
      "25:50:75 % percentile= 17.0 , 56.0 , 81.0\n"
     ]
    }
   ],
   "source": [
    "import numpy as np\n",
    "x = df.iloc[:,4]\n",
    "print(\"The min value=\",min(x))\n",
    "print(\"The max value=\",max(x))\n",
    "print(\"Mean=\",sum(x)/len(x))\n",
    "print(\"Range=\",max(x)-min(x))\n",
    "print(\"Standard_devaition=\",np.std(x))\n",
    "print(\"Variance=\",np.var(x))\n",
    "print(\"Count=\",len(x)+1)\n",
    "print(\"25:50:75 % percentile=\",np.percentile(x,25),\",\", np.percentile(x,50),\",\", np.percentile(x,75))"
   ]
  },
  {
   "cell_type": "markdown",
   "metadata": {},
   "source": [
    "<h3>37</h3>"
   ]
  },
  {
   "cell_type": "code",
   "execution_count": 45,
   "metadata": {},
   "outputs": [
    {
     "name": "stdout",
     "output_type": "stream",
     "text": [
      "The min value= 0\n",
      "The max value= 100\n",
      "Mean= 65.04817829974643\n",
      "Range= 100\n",
      "Standard_devaition= 27.375423294718757\n",
      "Variance= 749.4138005650303\n",
      "Count= 7494\n",
      "25:50:75 % percentile= 48.0 , 71.0 , 86.0\n"
     ]
    }
   ],
   "source": [
    "import numpy as np\n",
    "x = df.iloc[:,5]\n",
    "print(\"The min value=\",min(x))\n",
    "print(\"The max value=\",max(x))\n",
    "print(\"Mean=\",sum(x)/len(x))\n",
    "print(\"Range=\",max(x)-min(x))\n",
    "print(\"Standard_devaition=\",np.std(x))\n",
    "print(\"Variance=\",np.var(x))\n",
    "print(\"Count=\",len(x)+1)\n",
    "print(\"25:50:75 % percentile=\",np.percentile(x,25),\",\", np.percentile(x,50),\",\", np.percentile(x,75))"
   ]
  },
  {
   "cell_type": "markdown",
   "metadata": {},
   "source": [
    "<h3>26</h3>"
   ]
  },
  {
   "cell_type": "code",
   "execution_count": 44,
   "metadata": {},
   "outputs": [
    {
     "name": "stdout",
     "output_type": "stream",
     "text": [
      "The min value= 0\n",
      "The max value= 100\n",
      "Mean= 51.475243560656615\n",
      "Range= 100\n",
      "Standard_devaition= 30.678663422442437\n",
      "Variance= 941.1803893875075\n",
      "Count= 7494\n",
      "25:50:75 % percentile= 28.0 , 54.0 , 75.0\n"
     ]
    }
   ],
   "source": [
    "import numpy as np\n",
    "x = df.iloc[:,6]\n",
    "print(\"The min value=\",min(x))\n",
    "print(\"The max value=\",max(x))\n",
    "print(\"Mean=\",sum(x)/len(x))\n",
    "print(\"Range=\",max(x)-min(x))\n",
    "print(\"Standard_devaition=\",np.std(x))\n",
    "print(\"Variance=\",np.var(x))\n",
    "print(\"Count=\",len(x)+1)\n",
    "print(\"25:50:75 % percentile=\",np.percentile(x,25),\",\", np.percentile(x,50),\",\", np.percentile(x,75))"
   ]
  },
  {
   "cell_type": "markdown",
   "metadata": {},
   "source": [
    "<h3>0</h3>"
   ]
  },
  {
   "cell_type": "code",
   "execution_count": 43,
   "metadata": {},
   "outputs": [
    {
     "name": "stdout",
     "output_type": "stream",
     "text": [
      "The min value= 0\n",
      "The max value= 100\n",
      "Mean= 44.60563192312825\n",
      "Range= 100\n",
      "Standard_devaition= 30.65514814641082\n",
      "Variance= 939.7381078783948\n",
      "Count= 7494\n",
      "25:50:75 % percentile= 22.0 , 42.0 , 65.0\n"
     ]
    }
   ],
   "source": [
    "import numpy as np\n",
    "x = df.iloc[:,7]\n",
    "print(\"The min value=\",min(x))\n",
    "print(\"The max value=\",max(x))\n",
    "print(\"Mean=\",sum(x)/len(x))\n",
    "print(\"Range=\",max(x)-min(x))\n",
    "print(\"Standard_devaition=\",np.std(x))\n",
    "print(\"Variance=\",np.var(x))\n",
    "print(\"Count=\",len(x)+1)\n",
    "print(\"25:50:75 % percentile=\",np.percentile(x,25),\",\", np.percentile(x,50),\",\", np.percentile(x,75))"
   ]
  },
  {
   "cell_type": "markdown",
   "metadata": {},
   "source": [
    "<h3>0.1</h3>"
   ]
  },
  {
   "cell_type": "code",
   "execution_count": 42,
   "metadata": {},
   "outputs": [
    {
     "name": "stdout",
     "output_type": "stream",
     "text": [
      "The min value= 0\n",
      "The max value= 100\n",
      "Mean= 57.1375950887495\n",
      "Range= 100\n",
      "Standard_devaition= 33.673872457772546\n",
      "Variance= 1133.9296863023324\n",
      "Count= 7494\n",
      "25:50:75 % percentile= 30.0 , 60.0 , 88.0\n"
     ]
    }
   ],
   "source": [
    "import numpy as np\n",
    "x = df.iloc[:,8]\n",
    "print(\"The min value=\",min(x))\n",
    "print(\"The max value=\",max(x))\n",
    "print(\"Mean=\",sum(x)/len(x))\n",
    "print(\"Range=\",max(x)-min(x))\n",
    "print(\"Standard_devaition=\",np.std(x))\n",
    "print(\"Variance=\",np.var(x))\n",
    "print(\"Count=\",len(x)+1)\n",
    "print(\"25:50:75 % percentile=\",np.percentile(x,25),\",\", np.percentile(x,50),\",\", np.percentile(x,75))"
   ]
  },
  {
   "cell_type": "markdown",
   "metadata": {},
   "source": [
    "<h3>23</h3>"
   ]
  },
  {
   "cell_type": "code",
   "execution_count": 41,
   "metadata": {},
   "outputs": [
    {
     "name": "stdout",
     "output_type": "stream",
     "text": [
      "The min value= 0\n",
      "The max value= 100\n",
      "Mean= 34.070599225944214\n",
      "Range= 100\n",
      "Standard_devaition= 27.45969141749122\n",
      "Variance= 754.0346527438411\n",
      "Count= 7494\n",
      "25:50:75 % percentile= 7.0 , 33.0 , 55.0\n"
     ]
    }
   ],
   "source": [
    "import numpy as np\n",
    "x = df.iloc[:,9]\n",
    "print(\"The min value=\",min(x))\n",
    "print(\"The max value=\",max(x))\n",
    "print(\"Mean=\",sum(x)/len(x))\n",
    "print(\"Range=\",max(x)-min(x))\n",
    "print(\"Standard_devaition=\",np.std(x))\n",
    "print(\"Variance=\",np.var(x))\n",
    "print(\"Count=\",len(x)+1)\n",
    "print(\"25:50:75 % percentile=\",np.percentile(x,25),\",\", np.percentile(x,50),\",\", np.percentile(x,75))"
   ]
  },
  {
   "cell_type": "markdown",
   "metadata": {},
   "source": [
    "<h3>56</h3>"
   ]
  },
  {
   "cell_type": "code",
   "execution_count": 40,
   "metadata": {},
   "outputs": [
    {
     "name": "stdout",
     "output_type": "stream",
     "text": [
      "The min value= 0\n",
      "The max value= 100\n",
      "Mean= 61.418123582009876\n",
      "Range= 100\n",
      "Standard_devaition= 37.13070938522221\n",
      "Variance= 1378.689579449829\n",
      "Count= 7494\n",
      "25:50:75 % percentile= 25.0 , 74.0 , 98.0\n"
     ]
    }
   ],
   "source": [
    "import numpy as np\n",
    "x = df.iloc[:,10]\n",
    "print(\"The min value=\",min(x))\n",
    "print(\"The max value=\",max(x))\n",
    "print(\"Mean=\",sum(x)/len(x))\n",
    "print(\"Range=\",max(x)-min(x))\n",
    "print(\"Standard_devaition=\",np.std(x))\n",
    "print(\"Variance=\",np.var(x))\n",
    "print(\"Count=\",len(x)+1)\n",
    "print(\"25:50:75 % percentile=\",np.percentile(x,25),\",\", np.percentile(x,50),\",\", np.percentile(x,75))"
   ]
  },
  {
   "cell_type": "markdown",
   "metadata": {},
   "source": [
    "<h3>53</h3>\n"
   ]
  },
  {
   "cell_type": "code",
   "execution_count": 39,
   "metadata": {},
   "outputs": [
    {
     "name": "stdout",
     "output_type": "stream",
     "text": [
      "The min value= 0\n",
      "The max value= 100\n",
      "Mean= 35.779794474843186\n",
      "Range= 100\n",
      "Standard_devaition= 27.495116004391548\n",
      "Variance= 755.9814040949483\n",
      "Count= 7494\n",
      "25:50:75 % percentile= 12.0 , 32.0 , 57.0\n"
     ]
    }
   ],
   "source": [
    "import numpy as np\n",
    "x = df.iloc[:,11]\n",
    "print(\"The min value=\",min(x))\n",
    "print(\"The max value=\",max(x))\n",
    "print(\"Mean=\",sum(x)/len(x))\n",
    "print(\"Range=\",max(x)-min(x))\n",
    "print(\"Standard_devaition=\",np.std(x))\n",
    "print(\"Variance=\",np.var(x))\n",
    "print(\"Count=\",len(x)+1)\n",
    "print(\"25:50:75 % percentile=\",np.percentile(x,25),\",\", np.percentile(x,50),\",\", np.percentile(x,75))"
   ]
  },
  {
   "cell_type": "markdown",
   "metadata": {},
   "source": [
    "<h3>100.1</h3>"
   ]
  },
  {
   "cell_type": "code",
   "execution_count": 38,
   "metadata": {},
   "outputs": [
    {
     "name": "stdout",
     "output_type": "stream",
     "text": [
      "The min value= 0\n",
      "The max value= 100\n",
      "Mean= 54.69371413319098\n",
      "Range= 100\n",
      "Standard_devaition= 22.593720092831333\n",
      "Variance= 510.4761876332104\n",
      "Count= 7494\n",
      "25:50:75 % percentile= 41.0 , 53.0 , 69.0\n"
     ]
    }
   ],
   "source": [
    "import numpy as np\n",
    "x = df.iloc[:,12]\n",
    "print(\"The min value=\",min(x))\n",
    "print(\"The max value=\",max(x))\n",
    "print(\"Mean=\",sum(x)/len(x))\n",
    "print(\"Range=\",max(x)-min(x))\n",
    "print(\"Standard_devaition=\",np.std(x))\n",
    "print(\"Variance=\",np.var(x))\n",
    "print(\"Count=\",len(x)+1)\n",
    "print(\"25:50:75 % percentile=\",np.percentile(x,25),\",\", np.percentile(x,50),\",\", np.percentile(x,75))"
   ]
  },
  {
   "cell_type": "markdown",
   "metadata": {},
   "source": [
    "<h3>90</h3>"
   ]
  },
  {
   "cell_type": "code",
   "execution_count": 37,
   "metadata": {},
   "outputs": [
    {
     "name": "stdout",
     "output_type": "stream",
     "text": [
      "The min value= 0\n",
      "The max value= 100\n",
      "Mean= 35.793540637928736\n",
      "Range= 100\n",
      "Standard_devaition= 33.21770917404616\n",
      "Variance= 1103.4162027715108\n",
      "Count= 7494\n",
      "25:50:75 % percentile= 7.0 , 28.0 , 48.0\n"
     ]
    }
   ],
   "source": [
    "import numpy as np\n",
    "x = df.iloc[:,13]\n",
    "print(\"The min value=\",min(x))\n",
    "print(\"The max value=\",max(x))\n",
    "print(\"Mean=\",sum(x)/len(x))\n",
    "print(\"Range=\",max(x)-min(x))\n",
    "print(\"Standard_devaition=\",np.std(x))\n",
    "print(\"Variance=\",np.var(x))\n",
    "print(\"Count=\",len(x)+1)\n",
    "print(\"25:50:75 % percentile=\",np.percentile(x,25),\",\", np.percentile(x,50),\",\", np.percentile(x,75))"
   ]
  },
  {
   "cell_type": "markdown",
   "metadata": {},
   "source": [
    "<h3>40</h3>"
   ]
  },
  {
   "cell_type": "code",
   "execution_count": 36,
   "metadata": {},
   "outputs": [
    {
     "name": "stdout",
     "output_type": "stream",
     "text": [
      "The min value= 0\n",
      "The max value= 100\n",
      "Mean= 46.81462698518617\n",
      "Range= 100\n",
      "Standard_devaition= 41.53171912765591\n",
      "Variance= 1724.8836936985\n",
      "Count= 7494\n",
      "25:50:75 % percentile= 0.0 , 39.0 , 100.0\n"
     ]
    }
   ],
   "source": [
    "import numpy as np\n",
    "x = df.iloc[:,14]\n",
    "print(\"The min value=\",min(x))\n",
    "print(\"The max value=\",max(x))\n",
    "print(\"Mean=\",sum(x)/len(x))\n",
    "print(\"Range=\",max(x)-min(x))\n",
    "print(\"Standard_devaition=\",np.std(x))\n",
    "print(\"Variance=\",np.var(x))\n",
    "print(\"Count=\",len(x)+1)\n",
    "print(\"25:50:75 % percentile=\",np.percentile(x,25),\",\", np.percentile(x,50),\",\", np.percentile(x,75))"
   ]
  },
  {
   "cell_type": "markdown",
   "metadata": {},
   "source": [
    "<h3>98</h3>"
   ]
  },
  {
   "cell_type": "code",
   "execution_count": 35,
   "metadata": {},
   "outputs": [
    {
     "name": "stdout",
     "output_type": "stream",
     "text": [
      "The min value= 0\n",
      "The max value= 100\n",
      "Mean= 28.556119044441477\n",
      "Range= 100\n",
      "Standard_devaition= 35.8021082966748\n",
      "Variance= 1281.7909584868307\n",
      "Count= 7494\n",
      "25:50:75 % percentile= 0.0 , 8.0 , 51.0\n"
     ]
    }
   ],
   "source": [
    "import numpy as np\n",
    "x = df.iloc[:,15]\n",
    "print(\"The min value=\",min(x))\n",
    "print(\"The max value=\",max(x))\n",
    "print(\"Mean=\",sum(x)/len(x))\n",
    "print(\"Range=\",max(x)-min(x))\n",
    "print(\"Standard_devaition=\",np.std(x))\n",
    "print(\"Variance=\",np.var(x))\n",
    "print(\"Count=\",len(x)+1)\n",
    "print(\"25:50:75 % percentile=\",np.percentile(x,25),\",\", np.percentile(x,50),\",\", np.percentile(x,75))"
   ]
  },
  {
   "cell_type": "markdown",
   "metadata": {},
   "source": [
    "<h3>8</h3>"
   ]
  },
  {
   "cell_type": "code",
   "execution_count": 87,
   "metadata": {},
   "outputs": [
    {
     "name": "stdout",
     "output_type": "stream",
     "text": [
      "The min value= 0\n",
      "The max value= 9\n",
      "Mean= 4.430401708261043\n",
      "Range= 9\n",
      "Standard_devaition= 2.87668516905118\n",
      "Variance= 8.275317561839016\n",
      "Count= 7494\n",
      "25:50:75 % percentile= 2.0 , 4.0 , 7.0\n"
     ]
    }
   ],
   "source": [
    "import numpy as np\n",
    "x = df.iloc[:,16]\n",
    "print(\"The min value=\",min(x))\n",
    "print(\"The max value=\",max(x))\n",
    "print(\"Mean=\",sum(x)/len(x))\n",
    "print(\"Range=\",max(x)-min(x))\n",
    "print(\"Standard_devaition=\",np.std(x))\n",
    "print(\"Variance=\",np.var(x))\n",
    "print(\"Count=\",len(x)+1)\n",
    "print(\"25:50:75 % percentile=\",np.percentile(x,25),\",\", np.percentile(x,50),\",\", np.percentile(x,75))"
   ]
  },
  {
   "cell_type": "markdown",
   "metadata": {},
   "source": [
    "2.2 Data Visualisation"
   ]
  },
  {
   "cell_type": "markdown",
   "metadata": {},
   "source": [
    "<strong>2.2.1 Histogram</strong>"
   ]
  },
  {
   "cell_type": "code",
   "execution_count": 88,
   "metadata": {},
   "outputs": [
    {
     "data": {
      "image/png": "[encoded data removed]",
      "text/plain": [
       "<Figure size 432x288 with 1 Axes>"
      ]
     },
     "metadata": {},
     "output_type": "display_data"
    }
   ],
   "source": [
    "import matplotlib.pyplot as plt\n",
    "\n",
    "a=df.iloc[:,0]\n",
    "b=df.iloc[:,1]\n",
    "c=df.iloc[:,2]\n",
    "d=df.iloc[:,3]\n",
    "e=df.iloc[:,4]\n",
    "f=df.iloc[:,5]\n",
    "g=df.iloc[:,6]\n",
    "h=df.iloc[:,7]\n",
    "i=df.iloc[:,8]\n",
    "j=df.iloc[:,10]\n",
    "k=df.iloc[:,11]\n",
    "l=df.iloc[:,12]\n",
    "m=df.iloc[:,12]\n",
    "n=df.iloc[:,13]\n",
    "o=df.iloc[:,14]\n",
    "p=df.iloc[:,15]\n",
    "q=df.iloc[:,16]\n",
    "bins = [0,10,20,30,40,50,60,70,80,90,100,110]\n",
    "plt.hist(a,bins,histtype='bar',label='47',rwidth=0.5)\n",
    "plt.hist(b,bins,histtype='bar',label='100',rwidth=0.5)\n",
    "plt.hist(c,bins,histtype='bar',label='27',rwidth=0.5)\n",
    "plt.hist(d,bins,histtype='bar',label='81',rwidth=0.5)\n",
    "plt.hist(e,bins,histtype='bar',label='57',rwidth=0.5)\n",
    "plt.hist(f,bins,histtype='bar',label='37',rwidth=0.5)\n",
    "plt.hist(g,bins,histtype='bar',label='26',rwidth=0.5)\n",
    "plt.hist(h,bins,histtype='bar',label='0',rwidth=0.5)\n",
    "plt.hist(i,bins,histtype='bar',label='0.1',rwidth=0.5)\n",
    "plt.hist(j,bins,histtype='bar',label='23',rwidth=0.5)\n",
    "plt.hist(k,bins,histtype='bar',label='56',rwidth=0.5)\n",
    "plt.hist(l,bins,histtype='bar',label='53',rwidth=0.5)\n",
    "plt.hist(m,bins,histtype='bar',label='100.1',rwidth=0.5)\n",
    "plt.hist(n,bins,histtype='bar',label='90',rwidth=0.5)\n",
    "plt.hist(o,bins,histtype='bar',label='40',rwidth=0.5)\n",
    "plt.hist(p,bins,histtype='bar',label='98',rwidth=0.5)\n",
    "plt.hist(q,bins,histtype='bar',label='8',rwidth=0.5)\n",
    "plt.legend()\n",
    "plt.title('Pen Digits')\n",
    "plt.show()"
   ]
  },
  {
   "cell_type": "markdown",
   "metadata": {},
   "source": [
    "2.2.2 <strong>Boxplot</strong>"
   ]
  },
  {
   "cell_type": "code",
   "execution_count": 55,
   "metadata": {},
   "outputs": [
    {
     "data": {
      "text/plain": [
       "[Text(1, 0, '47'),\n",
       " Text(2, 0, '100'),\n",
       " Text(3, 0, '27'),\n",
       " Text(4, 0, '81'),\n",
       " Text(5, 0, '57'),\n",
       " Text(6, 0, '37'),\n",
       " Text(7, 0, '26'),\n",
       " Text(8, 0, '0'),\n",
       " Text(9, 0, '0.1'),\n",
       " Text(10, 0, '23'),\n",
       " Text(11, 0, '56'),\n",
       " Text(12, 0, '53'),\n",
       " Text(13, 0, '100.1'),\n",
       " Text(14, 0, '90'),\n",
       " Text(15, 0, '40'),\n",
       " Text(16, 0, '98'),\n",
       " Text(17, 0, '8')]"
      ]
     },
     "execution_count": 55,
     "metadata": {},
     "output_type": "execute_result"
    },
    {
     "data": {
      "image/png": "[encoded data removed]",
      "text/plain": [
       "<Figure size 648x432 with 1 Axes>"
      ]
     },
     "metadata": {
      "needs_background": "light"
     },
     "output_type": "display_data"
    }
   ],
   "source": [
    "import matplotlib.pyplot as plt\n",
    "a=df.iloc[:,0]\n",
    "b=df.iloc[:,1]\n",
    "c=df.iloc[:,2]\n",
    "d=df.iloc[:,3]\n",
    "e=df.iloc[:,4]\n",
    "f=df.iloc[:,5]\n",
    "g=df.iloc[:,6]\n",
    "h=df.iloc[:,7]\n",
    "i=df.iloc[:,8]\n",
    "j=df.iloc[:,10]\n",
    "k=df.iloc[:,11]\n",
    "l=df.iloc[:,12]\n",
    "m=df.iloc[:,12]\n",
    "n=df.iloc[:,13]\n",
    "o=df.iloc[:,14]\n",
    "p=df.iloc[:,15]\n",
    "q=df.iloc[:,16]\n",
    "data_to_plot = [a,b,c,d,e,f,g,h,i,j,k,l,m,n,o,p,q]\n",
    "\n",
    "fig = plt.figure(1, figsize=(9, 6))\n",
    "\n",
    "\n",
    "ax = fig.add_subplot(111)\n",
    "\n",
    "\n",
    "bp = ax.boxplot(data_to_plot)\n",
    "\n",
    "\n",
    "fig.savefig('fig1.png', bbox_inches='tight')\n",
    "bp = ax.boxplot(data_to_plot, patch_artist=True)\n",
    "\n",
    "\n",
    "for box in bp['boxes']:\n",
    "    # change outline color\n",
    "    box.set( color='#7570b3', linewidth=2)\n",
    "    # change fill color\n",
    "    box.set( facecolor = '#1b9e77' )\n",
    "\n",
    "## change color and linewidth of the whiskers\n",
    "for whisker in bp['whiskers']:\n",
    "    whisker.set(color='#7570b3', linewidth=2)\n",
    "\n",
    "## change color and linewidth of the caps\n",
    "for cap in bp['caps']:\n",
    "    cap.set(color='#7570b3', linewidth=2)\n",
    "\n",
    "## change color and linewidth of the medians\n",
    "for median in bp['medians']:\n",
    "    median.set(color='#b2df8a', linewidth=2)\n",
    "for flier in bp['fliers']:\n",
    "    flier.set(marker='o', color='#e7298a', alpha=0.5)\n",
    "    \n",
    "ax.set_xticklabels(['47','100','27','81','57','37','26','0','0.1','23','56','53','100.1','90','40','98','8'])"
   ]
  },
  {
   "cell_type": "markdown",
   "metadata": {},
   "source": [
    "<h3>3.Conceptual Questions</h3>"
   ]
  },
  {
   "cell_type": "markdown",
   "metadata": {},
   "source": [
    "a.)Consider the histograms you generated for the Iris dataset.\n",
    "\n",
    "\n",
    "i) How do the shapes of the histograms for petal length and petal width differ from those for\n",
    "sepal length and sepal width?\n",
    "\n",
    "<strong>ans:-</strong>Petal Width and Sapel Width are of same shape.\n",
    "                      Patel Length and Sapel Length are of same shape.\n",
    "\n",
    "ii) Now consider just the petal width histogram. Is there a particular value of petal length\n",
    "(which ranges from 1.0 to 6.9) where the distribution of petal lengths (as illustrated by the\n",
    "histogram) could be best segmented into two parts?\n",
    "\n",
    "<strong>ans:-</strong>6.0\n",
    "\n",
    "iii) Now consider the boxplots you generated for the Iris dataset. There should be four\n",
    "boxplots, one for each feature. Based upon these boxplots, is there a pair of features that\n",
    "appear to have significantly different medians?\n",
    "\n",
    "<strong>ans:-</strong>Yes,all the four boxplots.\n",
    "\n",
    "iv) Recall that the degree of overlap between variabilities is an important initial indicator of the\n",
    "likelihood that differences in means or medians are meaningful. Also, based solely upon the\n",
    "box plots, which feature appears to explain the greatest amount of the data?\n",
    "\n",
    "<strong>ans:-</strong>Patel Length.\n",
    "\n",
    "b.) Lastly, consider the boxplots you generated for the Digits dataset.\n",
    "\n",
    "\n",
    "i) Do you observe any outliers? If so, for what features?\n",
    "\n",
    "<strong>ans:-</strong>For 100 and 81.\n",
    "\n",
    "ii) Now consider the corresponding histograms. What sort of distribution do the second and\n",
    "forth features display?\n",
    "\n",
    "<strong>ans:-</strong>skewed left.\n",
    "\n",
    "iii) With that in mind, explain the outliers, or lack thereof, in terms of what you observe from\n",
    "the histograms.\n",
    "\n",
    "<strong>ans:-</strong> donot find any outlier for the second one.But get one outlier in the forth feature at the left most part of the histogram."
   ]
  },
  {
   "cell_type": "markdown",
   "metadata": {},
   "source": [
    "<strong>Histogram for the second fearure</strong>"
   ]
  },
  {
   "cell_type": "code",
   "execution_count": 92,
   "metadata": {},
   "outputs": [
    {
     "data": {
      "image/png": "[encoded data removed]",
      "text/plain": [
       "<Figure size 432x288 with 1 Axes>"
      ]
     },
     "metadata": {},
     "output_type": "display_data"
    }
   ],
   "source": [
    "import matplotlib.pyplot as plt\n",
    "b=df.iloc[:,1]\n",
    "\n",
    "bins = [0,10,20,30,40,50,60,70,80,90,100,110]\n",
    "plt.hist(b,bins,histtype='bar',label='100',rwidth=0.5)\n",
    "\n",
    "plt.legend()\n",
    "plt.title('Pen Digits')\n",
    "plt.show()"
   ]
  },
  {
   "cell_type": "markdown",
   "metadata": {},
   "source": [
    "<strong>Histogram for 4th feature</strong>"
   ]
  },
  {
   "cell_type": "code",
   "execution_count": 93,
   "metadata": {},
   "outputs": [
    {
     "data": {
      "image/png": "[encoded data removed]",
      "text/plain": [
       "<Figure size 432x288 with 1 Axes>"
      ]
     },
     "metadata": {},
     "output_type": "display_data"
    }
   ],
   "source": [
    "import matplotlib.pyplot as plt\n",
    "d=df.iloc[:,3]\n",
    "bins = [0,10,20,30,40,50,60,70,80,90,100,110]\n",
    "plt.hist(d,bins,histtype='bar',label='81',rwidth=0.5)\n",
    "plt.legend()\n",
    "plt.title('Pen Digits')\n",
    "plt.show()"
   ]
  },
  {
   "cell_type": "markdown",
   "metadata": {},
   "source": [
    "<strong>Petal Length Histogram</strong>"
   ]
  },
  {
   "cell_type": "code",
   "execution_count": 97,
   "metadata": {},
   "outputs": [
    {
     "data": {
      "image/png": "[encoded data removed]",
      "text/plain": [
       "<Figure size 432x288 with 1 Axes>"
      ]
     },
     "metadata": {},
     "output_type": "display_data"
    }
   ],
   "source": [
    "import matplotlib.pyplot as plt\n",
    "p_Length = df['PetalLength']\n",
    "bins = [0,1,2,3,4,5,6,7,8,9,10]\n",
    "plt.hist(d,bins,histtype='bar',rwidth=0.5)\n",
    "\n",
    "plt.show()"
   ]
  },
  {
   "cell_type": "markdown",
   "metadata": {},
   "source": [
    "<strong>Patel Width Histogram</strong>"
   ]
  },
  {
   "cell_type": "code",
   "execution_count": 98,
   "metadata": {},
   "outputs": [
    {
     "data": {
      "image/png": "[encoded data removed]",
      "text/plain": [
       "<Figure size 432x288 with 1 Axes>"
      ]
     },
     "metadata": {},
     "output_type": "display_data"
    }
   ],
   "source": [
    "import matplotlib.pyplot as plt\n",
    "p_Width = df['PetalWidth']\n",
    "bins = [0,1,2,3,4,5,6,7,8,9,10]\n",
    "plt.hist(d,bins,histtype='bar',rwidth=0.5)\n",
    "\n",
    "plt.show()"
   ]
  },
  {
   "cell_type": "markdown",
   "metadata": {},
   "source": [
    "<strong>Sapel Length Histogram</strong>"
   ]
  },
  {
   "cell_type": "code",
   "execution_count": 101,
   "metadata": {},
   "outputs": [
    {
     "data": {
      "image/png": "[encoded data removed]",
      "text/plain": [
       "<Figure size 432x288 with 1 Axes>"
      ]
     },
     "metadata": {},
     "output_type": "display_data"
    }
   ],
   "source": [
    "import matplotlib.pyplot as plt\n",
    "s_Length = df['SepalLength']\n",
    "bins = [0,1,2,3,4,5,6,7,8,9,10]\n",
    "plt.hist(d,bins,histtype='bar',rwidth=0.5)\n",
    "\n",
    "plt.show()"
   ]
  },
  {
   "cell_type": "markdown",
   "metadata": {},
   "source": [
    "<strong>Sapel Width Histogram</strong>"
   ]
  },
  {
   "cell_type": "code",
   "execution_count": 102,
   "metadata": {},
   "outputs": [
    {
     "data": {
      "image/png": "[encoded data removed]",
      "text/plain": [
       "<Figure size 432x288 with 1 Axes>"
      ]
     },
     "metadata": {},
     "output_type": "display_data"
    }
   ],
   "source": [
    "import matplotlib.pyplot as plt\n",
    "s_Width = df['SepalWidth']\n",
    "bins = [0,1,2,3,4,5,6,7,8,9,10]\n",
    "plt.hist(d,bins,histtype='bar',rwidth=0.5)\n",
    "\n",
    "plt.show()"
   ]
  },
  {
   "cell_type": "code",
   "execution_count": null,
   "metadata": {},
   "outputs": [],
   "source": []
  }
 ],
 "metadata": {
  "kernelspec": {
   "display_name": "Python 3",
   "language": "python",
   "name": "python3"
  },
  "language_info": {
   "codemirror_mode": {
    "name": "ipython",
    "version": 3
   },
   "file_extension": ".py",
   "mimetype": "text/x-python",
   "name": "python",
   "nbconvert_exporter": "python",
   "pygments_lexer": "ipython3",
   "version": "3.7.3"
  }
 },
 "nbformat": 4,
 "nbformat_minor": 2
}
